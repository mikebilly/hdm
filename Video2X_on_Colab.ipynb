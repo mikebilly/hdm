{
  "nbformat": 4,
  "nbformat_minor": 0,
  "metadata": {
    "accelerator": "GPU",
    "colab": {
      "name": "Video2X on Colab.ipynb",
      "provenance": [],
      "collapsed_sections": [],
      "include_colab_link": true
    },
    "kernelspec": {
      "display_name": "Python 3",
      "name": "python3"
    }
  },
  "cells": [
    {
      "cell_type": "markdown",
      "metadata": {
        "id": "view-in-github",
        "colab_type": "text"
      },
      "source": [
        "<a href=\"https://colab.research.google.com/github/mikebilly/hdm/blob/main/Video2X_on_Colab.ipynb\" target=\"_parent\"><img src=\"https://colab.research.google.com/assets/colab-badge.svg\" alt=\"Open In Colab\"/></a>"
      ]
    },
    {
      "cell_type": "code",
      "metadata": {
        "id": "KHWzMi7epefm"
      },
      "source": [
        "!apt install ffmpeg\n",
        "!apt install libmagic1 python3-yaml\n",
        "!apt install libvulkan-dev\n",
        "from google.colab import drive\n",
        "drive.mount(\"/content/gdrive\", force_remount=True)\n",
        "!git clone https://github.com/k4yt3x/video2x.git\n",
        "import os\n",
        "os.chdir('video2x/src')\n",
        "!git checkout master\n",
        "!pip install -r requirements.txt\n",
        "!rm -rf video2x.yaml\n",
        "!wget -O video2x.yaml https://raw.githubusercontent.com/mikebilly/hdm/main/video2x.yaml\n",
        "os.chdir('../..')\n",
        "!wget https://github.com/nihui/waifu2x-ncnn-vulkan/releases/download/20210521/waifu2x-ncnn-vulkan-20210521-ubuntu.zip\n",
        "!7z x waifu2x-ncnn-vulkan-20210521-ubuntu.zip\n",
        "!pip install -U PyYAML\n",
        "!rm /usr/local/lib/python3.7/dist-packages/PIL/Image.py\n",
        "!wget -P /usr/local/lib/python3.7/dist-packages/PIL https://raw.githubusercontent.com/mikebilly/hdm/main/Image.py"
      ],
      "execution_count": null,
      "outputs": []
    },
    {
      "cell_type": "code",
      "source": [
        "!wget -O input_pic.png https://github.com/mikebilly/hdm/raw/main/341d796e60073afdd58969f7734f776a.jpg\n",
        "!python video2x/src/video2x.py -i /content/input_pic.png -o output_pic.png -d waifu2x_ncnn_vulkan -r 2.0\n",
        "!cp output_pic.png \"gdrive/My Drive/341d796e60073afdd58969f7734f776a_2x.png\""
      ],
      "metadata": {
        "id": "GOwuKwymvmFg"
      },
      "execution_count": null,
      "outputs": []
    }
  ]
}
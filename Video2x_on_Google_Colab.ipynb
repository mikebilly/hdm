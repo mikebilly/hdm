{
  "nbformat": 4,
  "nbformat_minor": 0,
  "metadata": {
    "accelerator": "GPU",
    "colab": {
      "name": "Video2x_on_Google_Colab.ipynb",
      "provenance": [],
      "collapsed_sections": [
        "fUy6ZWt30ECN",
        "Lxu-fwb00Cd5"
      ],
      "include_colab_link": true
    },
    "kernelspec": {
      "display_name": "Python 3",
      "name": "python3"
    }
  },
  "cells": [
    {
      "cell_type": "markdown",
      "metadata": {
        "id": "view-in-github",
        "colab_type": "text"
      },
      "source": [
        "<a href=\"https://colab.research.google.com/github/mikebilly/hdm/blob/main/Video2x_on_Google_Colab.ipynb\" target=\"_parent\"><img src=\"https://colab.research.google.com/assets/colab-badge.svg\" alt=\"Open In Colab\"/></a>"
      ]
    },
    {
      "cell_type": "markdown",
      "source": [
        "# Mount and Authenticate"
      ],
      "metadata": {
        "id": "TCnpq_W3SFb9"
      }
    },
    {
      "cell_type": "code",
      "source": [
        "from google.colab import drive\n",
        "drive.mount(\"/content/gdrive\")\n",
        "\n",
        "from pydrive.auth import GoogleAuth\n",
        "from pydrive.drive import GoogleDrive\n",
        "from google.colab import auth\n",
        "from oauth2client.client import GoogleCredentials\n",
        "\n",
        "auth.authenticate_user()\n",
        "gauth = GoogleAuth()\n",
        "gauth.credentials = GoogleCredentials.get_application_default()\n",
        "drive = GoogleDrive(gauth)"
      ],
      "metadata": {
        "id": "yK9DE4HkUU7I"
      },
      "execution_count": null,
      "outputs": []
    },
    {
      "cell_type": "markdown",
      "source": [
        "# Initialize"
      ],
      "metadata": {
        "id": "fUy6ZWt30ECN"
      }
    },
    {
      "cell_type": "code",
      "metadata": {
        "id": "KHWzMi7epefm"
      },
      "source": [
        "import glob\n",
        "!apt install ffmpeg\n",
        "!apt install libmagic1 python3-yaml\n",
        "!apt install libvulkan-dev\n",
        "\n",
        "!git clone https://github.com/k4yt3x/video2x.git\n",
        "import os\n",
        "os.chdir('video2x/src')\n",
        "\n",
        "!git checkout master\n",
        "!pip install -r requirements.txt\n",
        "!rm -rf video2x.yaml\n",
        "!wget -O video2x.yaml https://raw.githubusercontent.com/mikebilly/hdm/main/video2x.yaml\n",
        "\n",
        "os.chdir('../..')\n",
        "!wget https://github.com/nihui/waifu2x-ncnn-vulkan/releases/download/20210521/waifu2x-ncnn-vulkan-20210521-ubuntu.zip\n",
        "!7z x waifu2x-ncnn-vulkan-20210521-ubuntu.zip\n",
        "!pip install -U PyYAML\n",
        "!rm /usr/local/lib/python3.7/dist-packages/PIL/Image.py\n",
        "!wget -P /usr/local/lib/python3.7/dist-packages/PIL https://raw.githubusercontent.com/mikebilly/hdm/main/Image.py\n",
        "\n",
        "os.mkdir('/content/input')\n",
        "os.mkdir('/content/output')\n",
        "\n",
        "import magic\n",
        "func = magic.Magic() "
      ],
      "execution_count": null,
      "outputs": []
    },
    {
      "cell_type": "markdown",
      "source": [
        "# Upload"
      ],
      "metadata": {
        "id": "mQHO98gY0DGR"
      }
    },
    {
      "cell_type": "code",
      "source": [
        "!wget -P /content/input \n",
        "noise = 3\n",
        "scale = 2"
      ],
      "metadata": {
        "id": "j50dzD0miZci"
      },
      "execution_count": null,
      "outputs": []
    },
    {
      "cell_type": "markdown",
      "source": [
        "# Upscale"
      ],
      "metadata": {
        "id": "Lxu-fwb00Cd5"
      }
    },
    {
      "cell_type": "code",
      "source": [
        "input_path = glob.glob(\"/content/input/*.*\")[0]\n",
        "if func.from_file(input_path).split(' ')[1] == \"image\":\n",
        "  output_ext = \".png\"\n",
        "else:\n",
        "  output_ext = \".mkv\"\n",
        "\n",
        "output_filename = \"{}_noise{}_{}x{}\".format(os.path.splitext(os.path.basename(input_path))[0], noise, scale, output_ext)\n",
        "output_path = \"/content/output/\" + output_filename\n",
        "\n",
        "print(input_path)\n",
        "print(output_path)\n",
        "print(output_filename)"
      ],
      "metadata": {
        "id": "i4NtzDMOjLhD"
      },
      "execution_count": null,
      "outputs": []
    },
    {
      "cell_type": "code",
      "source": [
        "os.chdir('/content/output')\n",
        "!python /content/video2x/src/video2x.py -i $input_path -o $output_filename -d waifu2x_ncnn_vulkan -r $scale\n",
        "!cp $output_path \"/content/gdrive/MyDrive\""
      ],
      "metadata": {
        "id": "GOwuKwymvmFg"
      },
      "execution_count": null,
      "outputs": []
    },
    {
      "cell_type": "code",
      "source": [
        "!rm -rf /content/input\n",
        "os.mkdir('/content/input')"
      ],
      "metadata": {
        "id": "BiQBR6bd9iXJ"
      },
      "execution_count": null,
      "outputs": []
    },
    {
      "cell_type": "markdown",
      "source": [
        "# Download"
      ],
      "metadata": {
        "id": "XOtUOsZkQ0j2"
      }
    },
    {
      "cell_type": "code",
      "source": [
        "file_list = GoogleDrive(gauth).ListFile({'q': \"'root' in parents and trashed=false\"}).GetList()\n",
        "for file in file_list:\n",
        "  if file['title'] == output_filename:\n",
        "    print(\"{} : https://drive.google.com/file/d/{}\".format(output_filename, file['id']))\n",
        "    break"
      ],
      "metadata": {
        "id": "lG6SmsYUT79u"
      },
      "execution_count": null,
      "outputs": []
    }
  ]
}
{
  "nbformat": 4,
  "nbformat_minor": 0,
  "metadata": {
    "accelerator": "GPU",
    "colab": {
      "name": "Video2x_on_Google_Colab.ipynb",
      "provenance": [],
      "collapsed_sections": [
        "fUy6ZWt30ECN",
        "Lxu-fwb00Cd5"
      ],
      "include_colab_link": true
    },
    "kernelspec": {
      "display_name": "Python 3",
      "name": "python3"
    }
  },
  "cells": [
    {
      "cell_type": "markdown",
      "metadata": {
        "id": "view-in-github",
        "colab_type": "text"
      },
      "source": [
        "<a href=\"https://colab.research.google.com/github/mikebilly/hdm/blob/main/Video2x_on_Google_Colab.ipynb\" target=\"_parent\"><img src=\"https://colab.research.google.com/assets/colab-badge.svg\" alt=\"Open In Colab\"/></a>"
      ]
    },
    {
      "cell_type": "markdown",
      "source": [
        "# Mount and authenticate"
      ],
      "metadata": {
        "id": "TCnpq_W3SFb9"
      }
    },
    {
      "cell_type": "code",
      "source": [
        "from google.colab import drive\n",
        "drive.mount(\"/content/gdrive\")\n",
        "\n",
        "from pydrive.auth import GoogleAuth\n",
        "from pydrive.drive import GoogleDrive\n",
        "from google.colab import auth\n",
        "from oauth2client.client import GoogleCredentials\n",
        "\n",
        "auth.authenticate_user()\n",
        "gauth = GoogleAuth()\n",
        "gauth.credentials = GoogleCredentials.get_application_default()\n",
        "drive = GoogleDrive(gauth)"
      ],
      "metadata": {
        "id": "yK9DE4HkUU7I"
      },
      "execution_count": null,
      "outputs": []
    },
    {
      "cell_type": "markdown",
      "source": [
        "# Initialize"
      ],
      "metadata": {
        "id": "fUy6ZWt30ECN"
      }
    },
    {
      "cell_type": "code",
      "metadata": {
        "id": "KHWzMi7epefm"
      },
      "source": [
        "import glob\n",
        "!apt install ffmpeg\n",
        "!apt install libmagic1 python3-yaml\n",
        "!apt install libvulkan-dev\n",
        "\n",
        "!git clone https://github.com/k4yt3x/video2x.git\n",
        "import os\n",
        "os.chdir('video2x/src')\n",
        "\n",
        "!git checkout master\n",
        "!pip install -r requirements.txt\n",
        "!rm -rf video2x.yaml\n",
        "!wget -O video2x.yaml https://raw.githubusercontent.com/mikebilly/hdm/main/video2x.yaml\n",
        "\n",
        "os.chdir('../..')\n",
        "!wget https://github.com/nihui/waifu2x-ncnn-vulkan/releases/download/20210521/waifu2x-ncnn-vulkan-20210521-ubuntu.zip\n",
        "!7z x waifu2x-ncnn-vulkan-20210521-ubuntu.zip\n",
        "!pip install -U PyYAML\n",
        "!rm /usr/local/lib/python3.7/dist-packages/PIL/Image.py\n",
        "!wget -P /usr/local/lib/python3.7/dist-packages/PIL https://raw.githubusercontent.com/mikebilly/hdm/main/Image.py\n",
        "\n",
        "os.mkdir('/content/input')\n",
        "os.mkdir('/content/output')\n",
        "\n",
        "import magic\n",
        "func = magic.Magic() "
      ],
      "execution_count": null,
      "outputs": []
    },
    {
      "cell_type": "markdown",
      "source": [
        "# Upload"
      ],
      "metadata": {
        "id": "mQHO98gY0DGR"
      }
    },
    {
      "cell_type": "code",
      "source": [
        "!wget -P /content/input \n",
        "scale = 2"
      ],
      "metadata": {
        "id": "j50dzD0miZci"
      },
      "execution_count": null,
      "outputs": []
    },
    {
      "cell_type": "markdown",
      "source": [
        "# Upscale"
      ],
      "metadata": {
        "id": "Lxu-fwb00Cd5"
      }
    },
    {
      "cell_type": "code",
      "source": [
        "input_path = glob.glob(\"/content/input/*.*\")[0]\n",
        "mimestart = func.from_file(input_path).split(' ')[1]\n",
        "if mimestart == \"image\":\n",
        "  output_ext = \".png\"\n",
        "else:\n",
        "  output_ext = \".mkv\"\n",
        "\n",
        "output_filename = os.path.splitext(os.path.basename(input_path))[0] + \"_\" + str(scale) + \"x\" + output_ext\n",
        "output_path = \"/content/output/\" + output_filename\n",
        "print(input_path)\n",
        "print(output_path)\n",
        "print(output_filename)"
      ],
      "metadata": {
        "id": "i4NtzDMOjLhD"
      },
      "execution_count": null,
      "outputs": []
    },
    {
      "cell_type": "code",
      "source": [
        "os.chdir('/content/output')\n",
        "!python /content/video2x/src/video2x.py -i $input_path -o $output_filename -d waifu2x_ncnn_vulkan -r $scale\n",
        "!cp $output_path \"/content/gdrive/MyDrive\""
      ],
      "metadata": {
        "id": "GOwuKwymvmFg",
        "outputId": "3231e0c4-ab13-4509-bdcf-de49fd62091d",
        "colab": {
          "base_uri": "https://localhost:8080/"
        }
      },
      "execution_count": null,
      "outputs": [
        {
          "output_type": "stream",
          "name": "stdout",
          "text": [
            "\n",
            "    __      __  _       _                  ___   __   __\n",
            "    \\ \\    / / (_)     | |                |__ \\  \\ \\ / /\n",
            "     \\ \\  / /   _    __| |   ___    ___      ) |  \\ V /\n",
            "      \\ \\/ /   | |  / _` |  / _ \\  / _ \\    / /    > <\n",
            "       \\  /    | | | (_| | |  __/ | (_) |  / /_   / . \\\n",
            "        \\/     |_|  \\__,_|  \\___|  \\___/  |____| /_/ \\_\\\n",
            "\n",
            "\n",
            "                  Video2X Video Enlarger\n",
            "\n",
            "\u001b[1m                       Version 4.3.3\u001b[0m\n",
            "\n",
            "\u001b[32m[+] INFO: Loading files into processing queue\u001b[0m\n",
            "\u001b[90m2021-12-10 07:59:15.094426 [+] INFO: Input path(s): /content/input/eye.png\u001b[0m\n",
            "\u001b[90m2021-12-10 07:59:15.095192 [+] INFO: File MIME type: image/png\u001b[0m\n",
            "\u001b[32m[+] INFO: Loaded files into processing queue\u001b[0m\n",
            "\u001b[90m2021-12-10 07:59:15.096763 [+] INFO: Input file: /content/input/eye.png\u001b[0m\n",
            "\u001b[32m[+] INFO: Reading file information\u001b[0m\n",
            "\u001b[90m2021-12-10 07:59:15.096982 [+] INFO: Executing: /usr/bin/ffprobe -v quiet -print_format json -show_format -show_streams -i /content/input/eye.png\u001b[0m\n",
            "\u001b[90m2021-12-10 07:59:15.390379 [+] INFO: Creating cache directory /tmp/video2x\u001b[0m\n",
            "\u001b[90m2021-12-10 07:59:15.390960 [+] INFO: Extracted frames are being saved to: /tmp/video2x/tmpkav9e_94\u001b[0m\n",
            "\u001b[90m2021-12-10 07:59:15.391207 [+] INFO: Upscaled frames are being saved to: /tmp/video2x/tmppujx0lg9\u001b[0m\n",
            "\u001b[32m[+] INFO: Starting upscaling image\u001b[0m\n",
            "\u001b[32m[+] INFO: Calculating scaling parameters\u001b[0m\n",
            "\u001b[90m2021-12-10 07:59:15.391988 [+] INFO: Framerate: 1\u001b[0m\n",
            "\u001b[90m2021-12-10 07:59:15.392129 [+] INFO: Width: 170\u001b[0m\n",
            "\u001b[90m2021-12-10 07:59:15.392261 [+] INFO: Height: 136\u001b[0m\n",
            "\u001b[90m2021-12-10 07:59:15.392407 [+] INFO: Total number of frames: 1\u001b[0m\n",
            "\u001b[90m2021-12-10 07:59:15.392527 [+] INFO: Output width: 340\u001b[0m\n",
            "\u001b[90m2021-12-10 07:59:15.392632 [+] INFO: Output height: 272\u001b[0m\n",
            "\u001b[90m2021-12-10 07:59:15.392742 [+] INFO: Required scale ratio: 2.0\u001b[0m\n",
            "\u001b[90m2021-12-10 07:59:15.392872 [+] INFO: Upscaling jobs queue: [2]\u001b[0m\n",
            "\u001b[32m[+] INFO: Starting to upscale extracted frames\u001b[0m\n",
            "\u001b[90m2021-12-10 07:59:15.399882 [+] INFO: [upscaler] Subprocess 461 executing: /content/waifu2x-ncnn-vulkan-20210521-ubuntu/waifu2x-ncnn-vulkan -n 3 -s 2 -t 400 -g 0 -j 1:1:1 -x -f png -i /tmp/video2x/tmpkav9e_94 -o /tmp/video2x/tmppujx0lg9\u001b[0m\n",
            "\u001b[90m2021-12-10 07:59:15.401033 [+] INFO: Starting progress monitor\u001b[0m\n",
            "\u001b[90m2021-12-10 07:59:15.404409 [+] INFO: Starting upscaled image cleaner\u001b[0m\n",
            "\u001b[90m2021-12-10 07:59:15.405207 [+] INFO: Main process waiting for subprocesses to exit\u001b[0m\n",
            "Processing: eye.png (pass 1/1):   0%|          | 0/1 [00:02<?, ?it/s]\u001b[90m2021-12-10 07:59:18.211934 [+] INFO: Subprocess 471 exited with code 0\u001b[0m\n",
            "\u001b[90m2021-12-10 07:59:18.312343 [+] INFO: Killing progress monitor\u001b[0m\n",
            "Processing: eye.png (pass 1/1):   0%|          | 0/1 [00:03<?, ?it/s]\n",
            "\u001b[90m2021-12-10 07:59:18.426596 [+] INFO: Killing upscaled image cleaner\u001b[0m\n",
            "\u001b[32m[+] INFO: Upscaling completed\u001b[0m\n",
            "\u001b[32m[+] INFO: Average processing speed: 0.2489032937180092 seconds per frame\u001b[0m\n",
            "\u001b[32m[+] INFO: Lanczos downscaling frames\u001b[0m\n",
            "Downscaling: 100%|##########| 1/1 [00:00<00:00, 52.78it/s]\n",
            "\u001b[32m[+] INFO: Exporting image\u001b[0m\n",
            "Cleaning up cache directory: /tmp/video2x/tmpkav9e_94\n",
            "Cleaning up cache directory: /tmp/video2x/tmppujx0lg9\n",
            "Cleaning up cache directory: /tmp/video2x\n",
            "\u001b[32m[+] INFO: Program completed, taking 4.34208 seconds\u001b[0m\n"
          ]
        }
      ]
    },
    {
      "cell_type": "code",
      "source": [
        "!rm -rf /content/input\n",
        "os.mkdir('/content/input')"
      ],
      "metadata": {
        "id": "BiQBR6bd9iXJ"
      },
      "execution_count": null,
      "outputs": []
    },
    {
      "cell_type": "markdown",
      "source": [
        "# Download"
      ],
      "metadata": {
        "id": "XOtUOsZkQ0j2"
      }
    },
    {
      "cell_type": "code",
      "source": [
        "file_list = drive.ListFile({'q': \"'root' in parents and trashed=false\"}).GetList()\n",
        "for file in file_list:\n",
        "  if file['title'] == output_filename:\n",
        "    print(\"https://drive.google.com/file/d/{}\".format(file['id']))\n",
        "    break"
      ],
      "metadata": {
        "id": "lG6SmsYUT79u"
      },
      "execution_count": null,
      "outputs": []
    }
  ]
}
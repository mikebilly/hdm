{
  "nbformat": 4,
  "nbformat_minor": 0,
  "metadata": {
    "colab": {
      "name": "Waifu2x-ncnn-vulkan on Google Colab.ipynb",
      "provenance": [],
      "collapsed_sections": []
    },
    "kernelspec": {
      "name": "python3",
      "display_name": "Python 3"
    },
    "language_info": {
      "name": "python"
    },
    "accelerator": "GPU"
  },
  "cells": [
    {
      "cell_type": "markdown",
      "source": [
        "# Initialization"
      ],
      "metadata": {
        "id": "LjEP1maJLcen"
      }
    },
    {
      "cell_type": "code",
      "execution_count": null,
      "metadata": {
        "id": "Ybs912lHOrF5"
      },
      "outputs": [],
      "source": [
        "!apt install libvulkan-dev\n",
        "import os\n",
        "import glob\n",
        "from json import load\n",
        "\n",
        "from google.colab import drive\n",
        "drive.mount(\"/content/gdrive\", force_remount=True)\n",
        "\n",
        "!curl -O \"https://api.github.com/repos/nihui/waifu2x-ncnn-vulkan/releases/latest\"\n",
        "with open('latest') as latest:\n",
        "  get_body = load(latest)\n",
        "for item in get_body['assets']:\n",
        "  if 'ubuntu' in item['name']:\n",
        "    name = item['name'].replace('.zip', '')\n",
        "    url = item['browser_download_url']\n",
        "    break\n",
        "!curl -L -O \"$url\"\n",
        "!unzip -q -o $name\n",
        "\n",
        "os.mkdir('/content/input')\n",
        "os.mkdir('/content/output')"
      ]
    },
    {
      "cell_type": "markdown",
      "source": [
        "# Get image name from url"
      ],
      "metadata": {
        "id": "TLOeVPNVG6Sp"
      }
    },
    {
      "cell_type": "code",
      "source": [
        "image_link = \"https://github.com/mikebilly/hdm/raw/main/049_B08VN4VNDX_EBOK_pote_nodrm_63.jpg\"\n",
        "image_name = os.path.splitext(os.path.basename(image_link[image_link.rfind(\"/\")+1:len(image_link)]))[0]"
      ],
      "metadata": {
        "id": "Ko7oPeCICyAP"
      },
      "execution_count": null,
      "outputs": []
    },
    {
      "cell_type": "markdown",
      "source": [
        "# Batch upscale"
      ],
      "metadata": {
        "id": "I6Y9OppDB_EX"
      }
    },
    {
      "cell_type": "code",
      "source": [
        "!wget -P /content/input https://github.com/mikebilly/hdm/raw/main/049_B08VN4VNDX_EBOK_pote_nodrm_63.jpg"
      ],
      "metadata": {
        "id": "XlA2SnmWYGyE"
      },
      "execution_count": null,
      "outputs": []
    },
    {
      "cell_type": "code",
      "source": [
        "noise = 3\n",
        "scale = 2\n",
        "output_folder = \"/content/output/\"\n",
        "for image in glob.glob(\"/content/input/*.*\"):\n",
        "  image_name = os.path.splitext(os.path.basename(image))[0]\n",
        "  output_filename = \"{}_noise{}_{}x\".format(image_name, noise, scale)\n",
        "  output_path = output_folder + output_filename + \".png\"\n",
        "  !/content/$name/waifu2x-ncnn-vulkan -i $image -o $output_path -n $noise -s $scale -x\n",
        "  !mv $output_path \"/content/gdrive/MyDrive\"\n"
      ],
      "metadata": {
        "id": "SdrWUJW0O24m"
      },
      "execution_count": null,
      "outputs": []
    },
    {
      "cell_type": "code",
      "source": [
        "!rm -rf /content/input\n",
        "os.mkdir('/content/input')"
      ],
      "metadata": {
        "id": "u8cQyVOfIYmA"
      },
      "execution_count": null,
      "outputs": []
    }
  ]
}
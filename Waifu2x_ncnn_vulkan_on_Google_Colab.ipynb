{
  "nbformat": 4,
  "nbformat_minor": 0,
  "metadata": {
    "colab": {
      "name": "Waifu2x_ncnn_vulkan_on_Google_Colab.ipynb",
      "provenance": [],
      "collapsed_sections": [
        "LjEP1maJLcen",
        "I6Y9OppDB_EX"
      ],
      "include_colab_link": true
    },
    "kernelspec": {
      "name": "python3",
      "display_name": "Python 3"
    },
    "language_info": {
      "name": "python"
    },
    "accelerator": "GPU"
  },
  "cells": [
    {
      "cell_type": "markdown",
      "metadata": {
        "id": "view-in-github",
        "colab_type": "text"
      },
      "source": [
        "<a href=\"https://colab.research.google.com/github/mikebilly/hdm/blob/main/Waifu2x_ncnn_vulkan_on_Google_Colab.ipynb\" target=\"_parent\"><img src=\"https://colab.research.google.com/assets/colab-badge.svg\" alt=\"Open In Colab\"/></a>"
      ]
    },
    {
      "cell_type": "markdown",
      "source": [
        "# Initialize"
      ],
      "metadata": {
        "id": "LjEP1maJLcen"
      }
    },
    {
      "cell_type": "code",
      "execution_count": null,
      "metadata": {
        "id": "Ybs912lHOrF5"
      },
      "outputs": [],
      "source": [
        "!apt install libvulkan-dev\n",
        "import os\n",
        "import glob\n",
        "from json import load\n",
        "\n",
        "from google.colab import drive\n",
        "drive.mount(\"/content/gdrive\", force_remount=True)\n",
        "\n",
        "!curl -O \"https://api.github.com/repos/nihui/waifu2x-ncnn-vulkan/releases/latest\"\n",
        "with open('latest') as latest:\n",
        "  get_body = load(latest)\n",
        "for item in get_body['assets']:\n",
        "  if 'ubuntu' in item['name']:\n",
        "    name = item['name'].replace('.zip', '')\n",
        "    url = item['browser_download_url']\n",
        "    break\n",
        "!curl -L -O \"$url\"\n",
        "!unzip -q -o $name\n",
        "\n",
        "os.mkdir('/content/input')\n",
        "os.mkdir('/content/output')"
      ]
    },
    {
      "cell_type": "markdown",
      "source": [
        "# Upload"
      ],
      "metadata": {
        "id": "vKFdzcWuPcs_"
      }
    },
    {
      "cell_type": "code",
      "source": [
        "!wget -P /content/input \n",
        "noise = 3\n",
        "scale = 2"
      ],
      "metadata": {
        "id": "XlA2SnmWYGyE"
      },
      "execution_count": null,
      "outputs": []
    },
    {
      "cell_type": "markdown",
      "source": [
        "# Upscale"
      ],
      "metadata": {
        "id": "I6Y9OppDB_EX"
      }
    },
    {
      "cell_type": "code",
      "source": [
        "for image in glob.glob(\"/content/input/*.*\"):\n",
        "  image_name = os.path.splitext(os.path.basename(image))[0]\n",
        "  output_filename = \"{}_noise{}_{}x.png\".format(image_name, noise, scale)\n",
        "  output_path = \"/content/output/\" + output_filename\n",
        "  !/content/$name/waifu2x-ncnn-vulkan -i $image -o $output_path -n $noise -s $scale -x\n",
        "  print(\"noise={} scale={} : {}\".format(noise, scale, output_filename))\n",
        "  !mv $output_path \"/content/gdrive/MyDrive\"\n"
      ],
      "metadata": {
        "id": "SdrWUJW0O24m"
      },
      "execution_count": null,
      "outputs": []
    },
    {
      "cell_type": "code",
      "source": [
        "!rm -rf /content/input\n",
        "os.mkdir('/content/input')"
      ],
      "metadata": {
        "id": "u8cQyVOfIYmA"
      },
      "execution_count": null,
      "outputs": []
    }
  ]
}